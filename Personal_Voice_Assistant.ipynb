{
  "nbformat": 4,
  "nbformat_minor": 0,
  "metadata": {
    "colab": {
      "provenance": [],
      "authorship_tag": "ABX9TyMOLet81ige8TQIWSA9CayF",
      "include_colab_link": true
    },
    "kernelspec": {
      "name": "python3",
      "display_name": "Python 3"
    },
    "language_info": {
      "name": "python"
    }
  },
  "cells": [
    {
      "cell_type": "markdown",
      "metadata": {
        "id": "view-in-github",
        "colab_type": "text"
      },
      "source": [
        "<a href=\"https://colab.research.google.com/github/Underemployed/Personal-Voice-Assistant/blob/main/Personal_Voice_Assistant.ipynb\" target=\"_parent\"><img src=\"https://colab.research.google.com/assets/colab-badge.svg\" alt=\"Open In Colab\"/></a>"
      ]
    },
    {
      "cell_type": "code",
      "source": [
        "!pip install -q -U google-generativeai"
      ],
      "metadata": {
        "id": "-XzOvwJ0TuAq"
      },
      "execution_count": 6,
      "outputs": []
    },
    {
      "cell_type": "code",
      "source": [
        "!pip install gTTS"
      ],
      "metadata": {
        "colab": {
          "base_uri": "https://localhost:8080/"
        },
        "id": "WrbyI9sf-A40",
        "outputId": "3adad424-9746-4433-85cb-e1eeaac59576"
      },
      "execution_count": 7,
      "outputs": [
        {
          "output_type": "stream",
          "name": "stdout",
          "text": [
            "Requirement already satisfied: gTTS in /usr/local/lib/python3.10/dist-packages (2.5.2)\n",
            "Requirement already satisfied: requests<3,>=2.27 in /usr/local/lib/python3.10/dist-packages (from gTTS) (2.31.0)\n",
            "Requirement already satisfied: click<8.2,>=7.1 in /usr/local/lib/python3.10/dist-packages (from gTTS) (8.1.7)\n",
            "Requirement already satisfied: charset-normalizer<4,>=2 in /usr/local/lib/python3.10/dist-packages (from requests<3,>=2.27->gTTS) (3.3.2)\n",
            "Requirement already satisfied: idna<4,>=2.5 in /usr/local/lib/python3.10/dist-packages (from requests<3,>=2.27->gTTS) (3.7)\n",
            "Requirement already satisfied: urllib3<3,>=1.21.1 in /usr/local/lib/python3.10/dist-packages (from requests<3,>=2.27->gTTS) (2.0.7)\n",
            "Requirement already satisfied: certifi>=2017.4.17 in /usr/local/lib/python3.10/dist-packages (from requests<3,>=2.27->gTTS) (2024.7.4)\n"
          ]
        }
      ]
    },
    {
      "cell_type": "code",
      "source": [
        "import pathlib\n",
        "import textwrap\n",
        "\n",
        "from gtts import gTTS\n",
        "from IPython.display import Audio, display\n",
        "\n",
        "import google.generativeai as genai\n",
        "\n",
        "from IPython.display import display\n",
        "from IPython.display import Markdown\n",
        "\n",
        "\n",
        "def to_markdown(text):\n",
        "  text = text.replace('•', '  *')\n",
        "  return Markdown(textwrap.indent(text, '> ', predicate=lambda _: True))\n",
        "\n",
        "\n",
        "from google.colab import userdata\n",
        "GOOGLE_API_KEY=userdata.get('GEMINI_API_KEY')\n",
        "genai.configure(api_key=GOOGLE_API_KEY)\n",
        "model = genai.GenerativeModel('gemini-1.5-flash')"
      ],
      "metadata": {
        "id": "r5jd3CG-UFvC"
      },
      "execution_count": 8,
      "outputs": []
    },
    {
      "cell_type": "code",
      "execution_count": 9,
      "metadata": {
        "id": "FBQDjjU6NWkG"
      },
      "outputs": [],
      "source": [
        "def ask_question(name):\n",
        "    question = input(f\"Hey {name}, What is your question? \")\n",
        "    return question\n"
      ]
    },
    {
      "cell_type": "code",
      "source": [
        "ask_question(\"Whats up\")"
      ],
      "metadata": {
        "colab": {
          "base_uri": "https://localhost:8080/",
          "height": 72
        },
        "id": "3ge_SjLYNjiz",
        "outputId": "8d9e8a0a-904c-48a5-8e28-ee029584173f"
      },
      "execution_count": 10,
      "outputs": [
        {
          "name": "stdout",
          "output_type": "stream",
          "text": [
            "Hey Whats up, What is your question? nothing\n"
          ]
        },
        {
          "output_type": "execute_result",
          "data": {
            "text/plain": [
              "'nothing'"
            ],
            "application/vnd.google.colaboratory.intrinsic+json": {
              "type": "string"
            }
          },
          "metadata": {},
          "execution_count": 10
        }
      ]
    },
    {
      "cell_type": "code",
      "source": [
        "def classify_question(ques):\n",
        "\n",
        "  ques = ques.lower()\n",
        "\n",
        "  device = False\n",
        "  personal = False\n",
        "  google_search = False\n",
        "\n",
        "\n",
        "  device_lst =  [\"alarm\" , \"message\" , \"play song\" , \"open\" , \"call\"]\n",
        "  personal_lst = {\n",
        "      \"who are you\" : \"I am ceevyi\",\n",
        "      \"who made you\" : \"I was made by Underemployed\"\n",
        "  }\n",
        "\n",
        "\n",
        "  for i in device_lst:\n",
        "    if i in ques:\n",
        "      device  = True\n",
        "      break\n",
        "\n",
        "  for i in personal_lst:\n",
        "    if i in ques:\n",
        "      personal = True\n",
        "      break\n",
        "\n",
        "  if device or personal:\n",
        "    print(\"Device Related Question\")\n",
        "  else:\n",
        "    google_search = True\n",
        "\n",
        "\n",
        "  return google_search\n"
      ],
      "metadata": {
        "id": "33WjIka3NpFy"
      },
      "execution_count": 11,
      "outputs": []
    },
    {
      "cell_type": "code",
      "source": [
        "classify_question(\"Set an alarm\")"
      ],
      "metadata": {
        "colab": {
          "base_uri": "https://localhost:8080/"
        },
        "id": "KL6w4n4vRIep",
        "outputId": "6e721271-bd3d-4bbf-d45b-867978deee41"
      },
      "execution_count": 12,
      "outputs": [
        {
          "output_type": "stream",
          "name": "stdout",
          "text": [
            "Device Related Question\n"
          ]
        },
        {
          "output_type": "execute_result",
          "data": {
            "text/plain": [
              "False"
            ]
          },
          "metadata": {},
          "execution_count": 12
        }
      ]
    },
    {
      "cell_type": "code",
      "source": [
        "response = model.generate_content(\"What is the meaning of life?\")"
      ],
      "metadata": {
        "id": "wNu4fx2-UfRP"
      },
      "execution_count": 13,
      "outputs": []
    },
    {
      "cell_type": "code",
      "source": [
        "to_markdown(response.text)"
      ],
      "metadata": {
        "colab": {
          "base_uri": "https://localhost:8080/",
          "height": 452
        },
        "id": "NUutJGMXUoAj",
        "outputId": "29d4d488-eb17-4c70-c8ef-b24ac84d3fd5"
      },
      "execution_count": 14,
      "outputs": [
        {
          "output_type": "execute_result",
          "data": {
            "text/plain": [
              "<IPython.core.display.Markdown object>"
            ],
            "text/markdown": "> As a large language model, I don't have personal opinions or beliefs, so I can't offer a definitive answer to the meaning of life. It's a question that philosophers and theologians have grappled with for centuries, and each individual must ultimately find their own answer. \n> \n> Here are some common perspectives on the meaning of life:\n> \n> * **Finding happiness and fulfillment:** Many people believe the meaning of life lies in pursuing happiness, personal growth, and fulfilling experiences. \n> * **Making a difference:** Others find meaning in contributing to the world, helping others, and leaving a positive impact.\n> * **Spiritual purpose:** Some believe in a higher power and find meaning in following their spiritual path, serving a divine purpose, or seeking enlightenment.\n> * **Existentialism:** This philosophy emphasizes individual freedom and responsibility, suggesting that we create our own meaning through our choices and actions.\n> * **Nihilism:** This perspective argues that life is inherently meaningless, but individuals can still find purpose and value in their own experiences.\n> \n> Ultimately, the meaning of life is a deeply personal question. It's up to each individual to explore their own beliefs, values, and experiences to find their own answer. \n> \n> Instead of trying to find a single, universal meaning, perhaps the most meaningful approach is to:\n> \n> * **Embrace curiosity and exploration:** Continuously learn, grow, and discover new things.\n> * **Connect with others:** Build meaningful relationships and create a sense of community.\n> * **Find something you are passionate about:** Pursue your interests, talents, and dreams.\n> * **Live in the present moment:** Appreciate the beauty and joy in everyday life.\n> \n> Remember, there is no right or wrong answer to the meaning of life. The most important thing is to live a life that is authentic, fulfilling, and meaningful to you. \n"
          },
          "metadata": {},
          "execution_count": 14
        }
      ]
    },
    {
      "cell_type": "code",
      "source": [
        "def ask_gemini(ques: str, name: str) -> str:\n",
        "    modified_ques = (f\"Hey, you are now a voice assistant. Please assist '{name}' : '{ques}' \"\n",
        "                     f\"in text only, with a maximum of 40 words. Try to provide him clear and simple response, \"\n",
        "                     f\"even if there are minor mistakes in what he says.\")\n",
        "    response = model.generate_content(modified_ques)\n",
        "    to_markdown(response.text)\n",
        "    return response.text"
      ],
      "metadata": {
        "id": "s2WdGhzWVbWr"
      },
      "execution_count": 15,
      "outputs": []
    },
    {
      "cell_type": "code",
      "source": [
        "def speak(answer):\n",
        "  tts = gTTS(answer)\n",
        "  tts.save(\"audio.mp3\")\n",
        "  display(Audio(\"audio.mp3\", autoplay=True))"
      ],
      "metadata": {
        "id": "6e3WPzFE_GCZ"
      },
      "execution_count": 21,
      "outputs": []
    },
    {
      "cell_type": "code",
      "source": [
        "ask_gemini(\"Hi\" ,\"nithin\")"
      ],
      "metadata": {
        "colab": {
          "base_uri": "https://localhost:8080/",
          "height": 55
        },
        "id": "9z23jogXYBa1",
        "outputId": "a09c2f0e-a8cd-480c-c650-ee955aab0297"
      },
      "execution_count": 16,
      "outputs": [
        {
          "output_type": "execute_result",
          "data": {
            "text/plain": [
              "'Hi Nithin! 👋 How can I help you today? 😄 \\n'"
            ],
            "application/vnd.google.colaboratory.intrinsic+json": {
              "type": "string"
            }
          },
          "metadata": {},
          "execution_count": 16
        }
      ]
    },
    {
      "cell_type": "code",
      "source": [
        "have_questions = \"y\"\n",
        "name = \"\"\n",
        "while(have_questions == \"y\"):\n",
        "\n",
        "  if not (name) :\n",
        "    name = input(\"What is your name? \")\n",
        "    nickname = (name.split()[0].capitalize() if name and name.split() else name.capitalize() if name else \"\")\n",
        "\n",
        "  q = ask_question(nickname)\n",
        "  answer = \"\"\n",
        "\n",
        "\n",
        "  google_search = classify_question(q)\n",
        "  if(google_search):\n",
        "    answer = ask_gemini(q,nickname)\n",
        "\n",
        "  print(answer)\n",
        "  have_questions = input(\"Do you have any questions? \").lower()"
      ],
      "metadata": {
        "colab": {
          "base_uri": "https://localhost:8080/",
          "height": 124
        },
        "id": "FEjPuHelYEUw",
        "outputId": "475d6113-a2df-45b1-86af-0aa67fe6f03b"
      },
      "execution_count": 17,
      "outputs": [
        {
          "name": "stdout",
          "output_type": "stream",
          "text": [
            "What is your name? nithin\n",
            "Hey Nithin, What is your question? nothing\n",
            "Okay, Nithin. How can I help you today? 😊 \n",
            "\n",
            "Do you have any questions? n\n"
          ]
        }
      ]
    },
    {
      "cell_type": "code",
      "source": [],
      "metadata": {
        "id": "3mM2wd9LBQLj"
      },
      "execution_count": null,
      "outputs": []
    }
  ]
}